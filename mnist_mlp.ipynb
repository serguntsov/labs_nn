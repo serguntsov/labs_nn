{
 "cells": [
  {
   "cell_type": "code",
   "execution_count": 134,
   "metadata": {},
   "outputs": [],
   "source": [
    "import os\n",
    "import json\n",
    "import torch\n",
    "import torch.nn as nn\n",
    "import torch.optim as optim\n",
    "import matplotlib.pyplot as plt\n",
    "import torch.utils.data as data\n",
    "import torchvision.transforms.v2 as tfs\n",
    "\n",
    "from tqdm import tqdm\n",
    "from PIL import Image"
   ]
  },
  {
   "cell_type": "code",
   "execution_count": null,
   "metadata": {},
   "outputs": [],
   "source": [
    "class MyDatasets(data.Dataset):\n",
    "    def __init__(self, path, train=True, transform=None):\n",
    "        self.path = os.path.join(path, \"train\" if train else \"test\")\n",
    "        self.transform = transform\n",
    "\n",
    "        with open(os.path.join(path, \"format.json\"), \"r\") as fp:\n",
    "            self.format = json.load(fp)\n",
    "\n",
    "        self.length = 0\n",
    "        self.files = [] # Список файлов\n",
    "        self.targets = torch.eye(10)\n",
    "\n",
    "        for _dir, _target in self.format.items():\n",
    "            path = os.path.join(self.path, _dir)\n",
    "            list_files = os.listdir(path)\n",
    "            self.length += len(list_files)\n",
    "            self.files.extend(map(lambda _x: (os.path.join(path, _x), _target), list_files))\n",
    "\n",
    "\n",
    "    def __getitem__(self, item):\n",
    "        path_file, target = self.files[item]\n",
    "        tensor_target = self.targets[target] # из единичной матрицы нужная строка\n",
    "        img = Image.open(path_file)\n",
    "\n",
    "        if self.transform:\n",
    "            img = self.transform(img).ravel().float() / 255.0 # Нормализация\n",
    "\n",
    "        return img, tensor_target \n",
    "\n",
    "\n",
    "    def __len__(self):\n",
    "        return self.length\n"
   ]
  },
  {
   "cell_type": "code",
   "execution_count": 126,
   "metadata": {},
   "outputs": [],
   "source": [
    "class MLP(nn.Module):\n",
    "    def __init__(self, input_dim, num_hidden, output_dim):\n",
    "        super().__init__()\n",
    "        self.layer1 = nn.Linear(input_dim, num_hidden)\n",
    "        self.layer2 = nn.Linear(num_hidden, output_dim)\n",
    "\n",
    "\n",
    "    def forward(self, x):\n",
    "        x = self.layer1(x)\n",
    "        x = nn.functional.relu(x)\n",
    "        x = self.layer2(x)\n",
    "        return x\n",
    "    "
   ]
  },
  {
   "cell_type": "code",
   "execution_count": 127,
   "metadata": {},
   "outputs": [],
   "source": [
    "train_dataset = MyDatasets('dataset', transform=tfs.ToImage())\n",
    "test_dataset = MyDatasets('dataset', train=False, transform=tfs.ToImage())\n",
    "\n",
    "train_data = data.DataLoader(train_dataset, batch_size=32, shuffle=True)\n",
    "test_data = data.DataLoader(test_dataset, batch_size=500, shuffle=True)"
   ]
  },
  {
   "cell_type": "code",
   "execution_count": 128,
   "metadata": {},
   "outputs": [],
   "source": [
    "model = MLP(28 * 28, 32, 10)"
   ]
  },
  {
   "cell_type": "code",
   "execution_count": null,
   "metadata": {},
   "outputs": [
    {
     "name": "stderr",
     "output_type": "stream",
     "text": [
      "Epoch [1/2], loss_mean=0.273: 100%|██████████| 1875/1875 [00:36<00:00, 51.04it/s]\n",
      "Epoch [2/2], loss_mean=0.185: 100%|██████████| 1875/1875 [00:34<00:00, 54.20it/s]\n"
     ]
    }
   ],
   "source": [
    "optimizer = optim.Adam(params=model.parameters(), lr=0.01)\n",
    "loss_function = nn.CrossEntropyLoss()\n",
    "\n",
    "epochs = 2\n",
    "model.train()\n",
    "\n",
    "for _e in range(epochs):\n",
    "    loss_mean = 0\n",
    "    lm_count = 0\n",
    "\n",
    "    train_tqdm = tqdm(train_data, leave=True)\n",
    "    for x_train, y_train in train_tqdm:\n",
    "        predict = model(x_train)\n",
    "        loss = loss_function(predict, y_train)\n",
    "\n",
    "        # Один шаг градиентного спуска\n",
    "        optimizer.zero_grad()\n",
    "        loss.backward()\n",
    "        optimizer.step()\n",
    "\n",
    "        lm_count += 1\n",
    "        loss_mean = 1/lm_count * loss.item() + (1 - 1/lm_count) * loss_mean\n",
    "        train_tqdm.set_description(f\"Epoch [{_e+1}/{epochs}], loss_mean={loss_mean:.3f}\")\n",
    "\n"
   ]
  },
  {
   "cell_type": "code",
   "execution_count": null,
   "metadata": {},
   "outputs": [
    {
     "name": "stderr",
     "output_type": "stream",
     "text": [
      "100%|██████████| 20/20 [00:04<00:00,  4.54it/s]"
     ]
    },
    {
     "name": "stdout",
     "output_type": "stream",
     "text": [
      "0.9557\n"
     ]
    },
    {
     "name": "stderr",
     "output_type": "stream",
     "text": [
      "\n"
     ]
    }
   ],
   "source": [
    "model.eval()\n",
    "Q = 0\n",
    "\n",
    "test_tqdm = tqdm(test_data, leave=True)\n",
    "for x_test, y_test in test_tqdm:\n",
    "    with torch.no_grad():\n",
    "        p = model(x_test) #(500, 10)\n",
    "        p = torch.argmax(p, dim=1) #(500, 1)\n",
    "        y = torch.argmax(y_test, dim=1)\n",
    "        Q += torch.sum(p == y).item()\n",
    "\n",
    "Q /= len(test_dataset)\n",
    "print(Q)"
   ]
  },
  {
   "cell_type": "code",
   "execution_count": 143,
   "metadata": {},
   "outputs": [
    {
     "data": {
      "image/png": "[encoded data removed]",
      "text/plain": [
       "<Figure size 1000x600 with 15 Axes>"
      ]
     },
     "metadata": {},
     "output_type": "display_data"
    }
   ],
   "source": [
    "data_iter = iter(test_data)\n",
    "images, labels = next(data_iter)\n",
    "outputs = model(images)\n",
    "predictions = torch.argmax(outputs, dim=1)\n",
    "\n",
    "fig, axes = plt.subplots(3, 5, figsize=(10, 6))\n",
    "\n",
    "for i, ax in enumerate(axes.flat):\n",
    "    ax.imshow(images[i].resize(28, 28), cmap='gray')\n",
    "    ax.set_title(f'Pred: {predictions[i].item()}, True: {labels[i].argmax().item()}')\n",
    "    ax.axis('off')\n",
    "\n",
    "plt.show()"
   ]
  },
  {
   "cell_type": "code",
   "execution_count": null,
   "metadata": {},
   "outputs": [],
   "source": []
  }
 ],
 "metadata": {
  "kernelspec": {
   "display_name": "Python 3",
   "language": "python",
   "name": "python3"
  },
  "language_info": {
   "codemirror_mode": {
    "name": "ipython",
    "version": 3
   },
   "file_extension": ".py",
   "mimetype": "text/x-python",
   "name": "python",
   "nbconvert_exporter": "python",
   "pygments_lexer": "ipython3",
   "version": "3.8.9"
  }
 },
 "nbformat": 4,
 "nbformat_minor": 2
}
