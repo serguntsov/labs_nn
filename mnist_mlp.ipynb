{
 "cells": [
  {
   "cell_type": "code",
   "execution_count": null,
   "metadata": {},
   "outputs": [],
   "source": [
    "import os\n",
    "import json\n",
    "import torch\n",
    "\n",
    "import torch.utils.data as data\n",
    "import torchvision.transforms.v2 as tfs\n",
    "\n",
    "from PIL import Image"
   ]
  },
  {
   "cell_type": "code",
   "execution_count": null,
   "metadata": {},
   "outputs": [],
   "source": [
    "class MyDatasets(data.Dataset):\n",
    "    def __init__(self, path, train=True, transform=None):\n",
    "        self.path = os.path.join(path, \"train\" if train else \"test\")\n",
    "        self.transform = transform\n",
    "\n",
    "        with open(os.path.join(path, \"format.json\"), \"r\") as fp:\n",
    "            self.format = json.load(fp)\n",
    "\n",
    "        self.length = 0\n",
    "        self.files = []\n",
    "        self.targets = torch.eye(10) # единичная матрица\n",
    "\n",
    "        for _dir, _target in self.format.items():\n",
    "            path = os.path.join(self.path, _dir)\n",
    "            list_files = os.listdir(path)\n",
    "            self.length += len(list_files)\n",
    "            self.files.extend(map(lambda _x: (os.path.join(path, _x), _target), list_files))\n",
    "\n",
    "\n",
    "    def __getitem__(self, item):\n",
    "        path_file, target = self.files[item]\n",
    "        tensor_target = self.targets[target] # из единичной матрицы нужная строка\n",
    "        img = Image.open(path_file)\n",
    "\n",
    "        if self.transform:\n",
    "            img = self.transform(img).ravel().float() / 255.0\n",
    "\n",
    "        return img, tensor_target # входные, выходные\n",
    "\n",
    "\n",
    "    def __len__(self):\n",
    "        return self.length\n"
   ]
  }
 ],
 "metadata": {
  "kernelspec": {
   "display_name": "Python 3",
   "language": "python",
   "name": "python3"
  },
  "language_info": {
   "codemirror_mode": {
    "name": "ipython",
    "version": 3
   },
   "file_extension": ".py",
   "mimetype": "text/x-python",
   "name": "python",
   "nbconvert_exporter": "python",
   "pygments_lexer": "ipython3",
   "version": "3.8.9"
  }
 },
 "nbformat": 4,
 "nbformat_minor": 2
}
